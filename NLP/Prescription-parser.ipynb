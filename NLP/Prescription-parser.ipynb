{
 "cells": [
  {
   "cell_type": "markdown",
   "metadata": {},
   "source": [
    "#  Create a Prescription Parser using CRF\n",
    "This task tests your ability to build a Doctor Prescription Parser with the help of CRF model\n",
    "\n",
    "Your job is to build a Prescription Parser that takes a prescription (sentence) as an input and find / label the words in that sentence with one of the already pre-defined labels\n",
    "\n",
    "### Problem: SEQUENCE PREDICTION - Label words in a sentence\n",
    "#### Input : Doctor Prescription in the form of a sentence split into tokens\n",
    "- Ex: Take 2 tablets once a day for 10 days\n",
    "\n",
    "#### Output : FHIR Labels\n",
    "- ('Take', 'Method')\n",
    "- ('2', 'Qty') \n",
    "- ('tablets', 'Form')\n",
    "- ('once', 'Frequency')\n",
    "- ('a', 'Period') \n",
    "- ('day', 'PeriodUnit')\n",
    "- ('for', 'FOR')\n",
    "- ('10', 'Duration')\n",
    "- ('days', 'DurationUnit') "
   ]
  },
  {
   "cell_type": "markdown",
   "metadata": {},
   "source": [
    "### Major Steps\n",
    "- Install necessary library\n",
    "- Import the libraries\n",
    "- Create training data with labels\n",
    "    - Split the sentence into tokens\n",
    "    - Compute POS tags\n",
    "    - Create triples\n",
    "- Extract features\n",
    "- Split the data into training and testing set\n",
    "- Create CRF model\n",
    "- Save the CRF model\n",
    "- Load the CRF model\n",
    "- Predict on test data\n",
    "- Accuracy"
   ]
  },
  {
   "cell_type": "markdown",
   "metadata": {},
   "source": [
    "#### Install necesaary library"
   ]
  },
  {
   "cell_type": "code",
   "execution_count": null,
   "metadata": {},
   "outputs": [],
   "source": []
  },
  {
   "cell_type": "markdown",
   "metadata": {},
   "source": [
    "#### Import the necessary libraries"
   ]
  },
  {
   "cell_type": "code",
   "execution_count": 116,
   "metadata": {},
   "outputs": [],
   "source": [
    "import pandas as pd\n",
    "import textacy \n",
    "import spacy\n",
    "from nltk.tag import pos_tag\n",
    "#from sklearn.metrics import confusion_matrix, f1_score, classification_report\n",
    "#from sklearn.pipeline import Pipeline\n",
    "#from nltk.tag import pos_tag"
   ]
  },
  {
   "cell_type": "markdown",
   "metadata": {},
   "source": [
    "### Input data (GIVEN)\n",
    "#### Creating the inputs to the ML model in the following form:\n",
    "- sigs --> ['take 3 tabs for 10 days']       INPUT SIG\n",
    "- input_sigs --> [['take', '3', 'tabs', 'for', '10', 'days']]      TOKENS\n",
    "- output_labels --> [['Method','Qty', 'Form', 'FOR', 'Duration', 'DurationUnit']]       LABELS"
   ]
  },
  {
   "cell_type": "code",
   "execution_count": 117,
   "metadata": {},
   "outputs": [],
   "source": [
    "sigs = [\"for 5 to 6 days\", \"inject 2 units\", \"x 2 weeks\", \"x 3 days\", \"every day\", \"every 2 weeks\", \"every 3 days\", \"every 1 to 2 months\", \"every 2 to 6 weeks\", \"every 4 to 6 days\", \"take two to four tabs\", \"take 2 to 4 tabs\", \"take 3 tabs orally bid for 10 days at bedtime\", \"swallow three capsules tid orally\", \"take 2 capsules po every 6 hours\", \"take 2 tabs po for 10 days\", \"take 100 caps by mouth tid for 10 weeks\", \"take 2 tabs after an hour\", \"2 tabs every 4-6 hours\", \"every 4 to 6 hours\", \"q46h\", \"q4-6h\", \"2 hours before breakfast\", \"before 30 mins at bedtime\", \"30 mins before bed\", \"and 100 tabs twice a month\", \"100 tabs twice a month\", \"100 tabs once a month\", \"100 tabs thrice a month\", \"3 tabs daily for 3 days then 1 tab per day at bed\", \"30 tabs 10 days tid\", \"take 30 tabs for 10 days three times a day\", \"qid q6h\", \"bid\", \"qid\", \"30 tabs before dinner and bedtime\", \"30 tabs before dinner & bedtime\", \"take 3 tabs at bedtime\", \"30 tabs thrice daily for 10 days \", \"30 tabs for 10 days three times a day\", \"Take 2 tablets a day\", \"qid for 10 days\", \"every day\", \"take 2 caps at bedtime\", \"apply 3 drops before bedtime\", \"take three capsules daily\", \"swallow 3 pills once a day\", \"swallow three pills thrice a day\", \"apply daily\", \"apply three drops before bedtime\", \"every 6 hours\", \"before food\", \"after food\", \"for 20 days\", \"for twenty days\", \"with meals\"]\n",
    "input_sigs = [['for', '5', 'to', '6', 'days'], ['inject', '2', 'units'], ['x', '2', 'weeks'], ['x', '3', 'days'], ['every', 'day'], ['every', '2', 'weeks'], ['every', '3', 'days'], ['every', '1', 'to', '2', 'months'], ['every', '2', 'to', '6', 'weeks'], ['every', '4', 'to', '6', 'days'], ['take', 'two', 'to', 'four', 'tabs'], ['take', '2', 'to', '4', 'tabs'], ['take', '3', 'tabs', 'orally', 'bid', 'for', '10', 'days', 'at', 'bedtime'], ['swallow', 'three', 'capsules', 'tid', 'orally'], ['take', '2', 'capsules', 'po', 'every', '6', 'hours'], ['take', '2', 'tabs', 'po', 'for', '10', 'days'], ['take', '100', 'caps', 'by', 'mouth', 'tid', 'for', '10', 'weeks'], ['take', '2', 'tabs', 'after', 'an', 'hour'], ['2', 'tabs', 'every', '4-6', 'hours'], ['every', '4', 'to', '6', 'hours'], ['q46h'], ['q4-6h'], ['2', 'hours', 'before', 'breakfast'], ['before', '30', 'mins', 'at', 'bedtime'], ['30', 'mins', 'before', 'bed'], ['and', '100', 'tabs', 'twice', 'a', 'month'], ['100', 'tabs', 'twice', 'a', 'month'], ['100', 'tabs', 'once', 'a', 'month'], ['100', 'tabs', 'thrice', 'a', 'month'], ['3', 'tabs', 'daily', 'for', '3', 'days', 'then', '1', 'tab', 'per', 'day', 'at', 'bed'], ['30', 'tabs', '10', 'days', 'tid'], ['take', '30', 'tabs', 'for', '10', 'days', 'three', 'times', 'a', 'day'], ['qid', 'q6h'], ['bid'], ['qid'], ['30', 'tabs', 'before', 'dinner', 'and', 'bedtime'], ['30', 'tabs', 'before', 'dinner', '&', 'bedtime'], ['take', '3', 'tabs', 'at', 'bedtime'], ['30', 'tabs', 'thrice', 'daily', 'for', '10', 'days'], ['30', 'tabs', 'for', '10', 'days', 'three', 'times', 'a', 'day'], ['take', '2', 'tablets', 'a', 'day'], ['qid', 'for', '10', 'days'], ['every', 'day'], ['take', '2', 'caps', 'at', 'bedtime'], ['apply', '3', 'drops', 'before', 'bedtime'], ['take', 'three', 'capsules', 'daily'], ['swallow', '3', 'pills', 'once', 'a', 'day'], ['swallow', 'three', 'pills', 'thrice', 'a', 'day'], ['apply', 'daily'], ['apply', 'three', 'drops', 'before', 'bedtime'], ['every', '6', 'hours'], ['before', 'food'], ['after', 'food'], ['for', '20', 'days'], ['for', 'twenty', 'days'], ['with', 'meals']]\n",
    "output_labels = [['FOR', 'Duration', 'TO', 'DurationMax', 'DurationUnit'], ['Method', 'Qty', 'Form'], ['FOR', 'Duration', 'DurationUnit'], ['FOR', 'Duration', 'DurationUnit'], ['EVERY', 'Period'], ['EVERY', 'Period', 'PeriodUnit'], ['EVERY', 'Period', 'PeriodUnit'], ['EVERY', 'Period', 'TO', 'PeriodMax', 'PeriodUnit'], ['EVERY', 'Period', 'TO', 'PeriodMax', 'PeriodUnit'], ['EVERY', 'Period', 'TO', 'PeriodMax', 'PeriodUnit'], ['Method', 'Qty', 'TO', 'Qty', 'Form'], ['Method', 'Qty', 'TO', 'Qty', 'Form'], ['Method', 'Qty', 'Form', 'PO', 'BID', 'FOR', 'Duration', 'DurationUnit', 'AT', 'WHEN'], ['Method', 'Qty', 'Form', 'TID', 'PO'], ['Method', 'Qty', 'Form', 'PO', 'EVERY', 'Period', 'PeriodUnit'], ['Method', 'Qty', 'Form', 'PO', 'FOR', 'Duration', 'DurationUnit'], ['Method', 'Qty', 'Form', 'BY', 'PO', 'TID', 'FOR', 'Duration', 'DurationUnit'], ['Method', 'Qty', 'Form', 'AFTER', 'Period', 'PeriodUnit'], ['Qty', 'Form', 'EVERY', 'Period', 'PeriodUnit'], ['EVERY', 'Period', 'TO', 'PeriodMax', 'PeriodUnit'], ['Q46H'], ['Q4-6H'], ['Qty', 'PeriodUnit', 'BEFORE', 'WHEN'], ['BEFORE', 'Qty', 'M', 'AT', 'WHEN'], ['Qty', 'M', 'BEFORE', 'WHEN'], ['AND', 'Qty', 'Form', 'Frequency', 'Period', 'PeriodUnit'], ['Qty', 'Form', 'Frequency', 'Period', 'PeriodUnit'], ['Qty', 'Form', 'Frequency', 'Period', 'PeriodUnit'], ['Qty', 'Form', 'Frequency', 'Period', 'PeriodUnit'], ['Qty', 'Form', 'Frequency', 'FOR', 'Duration', 'DurationUnit', 'THEN', 'Qty', 'Form', 'Frequency', 'PeriodUnit', 'AT', 'WHEN'], ['Qty', 'Form', 'Duration', 'DurationUnit', 'TID'], ['Method', 'Qty', 'Form', 'FOR', 'Duration', 'DurationUnit', 'Qty', 'TIMES', 'Period', 'PeriodUnit'], ['QID', 'Q6H'], ['BID'], ['QID'],['Qty', 'Form', 'BEFORE', 'WHEN', 'AND', 'WHEN'], ['Qty', 'Form', 'BEFORE', 'WHEN', 'AND', 'WHEN'], ['Method', 'Qty', 'Form', 'AT', 'WHEN'], ['Qty', 'Form', 'Frequency', 'DAILY', 'FOR', 'Duration', 'DurationUnit'], ['Qty', 'Form', 'FOR', 'Duration', 'DurationUnit', 'Frequency', 'TIMES', 'Period', 'PeriodUnit'], ['Method', 'Qty', 'Form', 'Period', 'PeriodUnit'], ['QID', 'FOR', 'Duration', 'DurationUnit'], ['EVERY', 'PeriodUnit'], ['Method', 'Qty', 'Form', 'AT', 'WHEN'], ['Method', 'Qty', 'Form', 'BEFORE', 'WHEN'], ['Method', 'Qty', 'Form', 'DAILY'], ['Method', 'Qty', 'Form', 'Frequency', 'Period', 'PeriodUnit'], ['Method', 'Qty', 'Form', 'Frequency', 'Period', 'PeriodUnit'], ['Method', 'DAILY'], ['Method', 'Qty', 'Form', 'BEFORE', 'WHEN'], ['EVERY', 'Period', 'PeriodUnit'], ['BEFORE', 'FOOD'], ['AFTER', 'FOOD'], ['FOR', 'Duration', 'DurationUnit'], ['FOR', 'Duration', 'DurationUnit'], ['WITH', 'FOOD']]"
   ]
  },
  {
   "cell_type": "code",
   "execution_count": 118,
   "metadata": {},
   "outputs": [
    {
     "data": {
      "text/plain": [
       "(56, 56, 56)"
      ]
     },
     "execution_count": 118,
     "metadata": {},
     "output_type": "execute_result"
    }
   ],
   "source": [
    "len(sigs), len(input_sigs) , len(output_labels)"
   ]
  },
  {
   "cell_type": "markdown",
   "metadata": {},
   "source": [
    "### Creating a Tuples Maker method\n",
    "Create the tuples as given below by writing a function **tuples_maker(input_sigs, output_labels)** and returns **output** as given below\n",
    "\n",
    "Input(s): \n",
    "- input_sigs\n",
    "- output_lables\n",
    "\n",
    "Output:\n",
    "\n",
    "[[('for', 'FOR'),\n",
    "  ('5', 'Duration'),\n",
    "  ('to', 'TO'),\n",
    "  ('6', 'DurationMax'),\n",
    "  ('days', 'DurationUnit')], [second sentence], ...]"
   ]
  },
  {
   "cell_type": "code",
   "execution_count": 119,
   "metadata": {},
   "outputs": [],
   "source": [
    "def tuples_maker(inp, out):\n",
    "    sample_data = []\n",
    "    for i in range(0,len(inp)):\n",
    "        imp_out = {}\n",
    "        imp_out['inp'] = inp[i]\n",
    "        imp_out['out'] = out[i]\n",
    "        sample_data.append(imp_out)\n",
    "    # putting the labels and the words toegther.\n",
    "    return sample_data"
   ]
  },
  {
   "cell_type": "code",
   "execution_count": 120,
   "metadata": {},
   "outputs": [],
   "source": [
    "def get_tuples_maker(inp, out):\n",
    "    tuples= []\n",
    "    for i in range(0,len(inp)):\n",
    "        data = tuples_maker(inp[i],out[i])\n",
    "        tuples.append(data)\n",
    "    return tuples"
   ]
  },
  {
   "cell_type": "code",
   "execution_count": 121,
   "metadata": {},
   "outputs": [],
   "source": [
    "data = get_tuples_maker(input_sigs, output_labels)"
   ]
  },
  {
   "cell_type": "markdown",
   "metadata": {},
   "source": [
    "### Creating the triples_maker( ) for feature extraction\n",
    "- input: tuples_maker_output\n",
    "- output: \n",
    "[[('for', 'IN', 'FOR'),\n",
    "  ('5', 'CD', 'Duration'),\n",
    "  ('to', 'TO', 'TO'),\n",
    "  ('6', 'CD', 'DurationMax'),\n",
    "  ('days', 'NNS', 'DurationUnit')], [second sentence], ... ]"
   ]
  },
  {
   "cell_type": "code",
   "execution_count": 168,
   "metadata": {},
   "outputs": [],
   "source": [
    "def triples_maker(whole_data):\n",
    "    sample_data = []\n",
    "    for word in whole_data:\n",
    "        temp=[]\n",
    "        tag = pos_tag([word['inp']])\n",
    "        \n",
    "        temp.append(word['inp'])\n",
    "        temp.append(tag[0][1])\n",
    "        temp.append(word['out'])\n",
    "        #emp[0] = word['inp']\n",
    "        #emp[1] = tag[0][1]\n",
    "        #emp[2] = word['out']\n",
    "        sample_data.append(temp)\n",
    "    return sample_data"
   ]
  },
  {
   "cell_type": "code",
   "execution_count": 169,
   "metadata": {},
   "outputs": [],
   "source": [
    "def get_triples_maker(whole_data):\n",
    "    triples= []\n",
    "    for i in whole_data:\n",
    "        data = triples_maker(i)\n",
    "        triples.append(data)\n",
    "    return triples"
   ]
  },
  {
   "cell_type": "code",
   "execution_count": 170,
   "metadata": {},
   "outputs": [],
   "source": [
    "sample_data = get_triples_maker(data)"
   ]
  },
  {
   "cell_type": "code",
   "execution_count": 172,
   "metadata": {},
   "outputs": [
    {
     "data": {
      "text/plain": [
       "[[['for', 'IN', 'FOR'],\n",
       "  ['5', 'CD', 'Duration'],\n",
       "  ['to', 'TO', 'TO'],\n",
       "  ['6', 'CD', 'DurationMax'],\n",
       "  ['days', 'NNS', 'DurationUnit']],\n",
       " [['inject', 'NN', 'Method'], ['2', 'CD', 'Qty'], ['units', 'NNS', 'Form']],\n",
       " [['x', 'NN', 'FOR'],\n",
       "  ['2', 'CD', 'Duration'],\n",
       "  ['weeks', 'NNS', 'DurationUnit']],\n",
       " [['x', 'NN', 'FOR'],\n",
       "  ['3', 'CD', 'Duration'],\n",
       "  ['days', 'NNS', 'DurationUnit']],\n",
       " [['every', 'DT', 'EVERY'], ['day', 'NN', 'Period']],\n",
       " [['every', 'DT', 'EVERY'],\n",
       "  ['2', 'CD', 'Period'],\n",
       "  ['weeks', 'NNS', 'PeriodUnit']],\n",
       " [['every', 'DT', 'EVERY'],\n",
       "  ['3', 'CD', 'Period'],\n",
       "  ['days', 'NNS', 'PeriodUnit']],\n",
       " [['every', 'DT', 'EVERY'],\n",
       "  ['1', 'CD', 'Period'],\n",
       "  ['to', 'TO', 'TO'],\n",
       "  ['2', 'CD', 'PeriodMax'],\n",
       "  ['months', 'NNS', 'PeriodUnit']],\n",
       " [['every', 'DT', 'EVERY'],\n",
       "  ['2', 'CD', 'Period'],\n",
       "  ['to', 'TO', 'TO'],\n",
       "  ['6', 'CD', 'PeriodMax'],\n",
       "  ['weeks', 'NNS', 'PeriodUnit']],\n",
       " [['every', 'DT', 'EVERY'],\n",
       "  ['4', 'CD', 'Period'],\n",
       "  ['to', 'TO', 'TO'],\n",
       "  ['6', 'CD', 'PeriodMax'],\n",
       "  ['days', 'NNS', 'PeriodUnit']],\n",
       " [['take', 'VB', 'Method'],\n",
       "  ['two', 'CD', 'Qty'],\n",
       "  ['to', 'TO', 'TO'],\n",
       "  ['four', 'CD', 'Qty'],\n",
       "  ['tabs', 'NNS', 'Form']],\n",
       " [['take', 'VB', 'Method'],\n",
       "  ['2', 'CD', 'Qty'],\n",
       "  ['to', 'TO', 'TO'],\n",
       "  ['4', 'CD', 'Qty'],\n",
       "  ['tabs', 'NNS', 'Form']],\n",
       " [['take', 'VB', 'Method'],\n",
       "  ['3', 'CD', 'Qty'],\n",
       "  ['tabs', 'NNS', 'Form'],\n",
       "  ['orally', 'RB', 'PO'],\n",
       "  ['bid', 'NN', 'BID'],\n",
       "  ['for', 'IN', 'FOR'],\n",
       "  ['10', 'CD', 'Duration'],\n",
       "  ['days', 'NNS', 'DurationUnit'],\n",
       "  ['at', 'IN', 'AT'],\n",
       "  ['bedtime', 'NN', 'WHEN']],\n",
       " [['swallow', 'NN', 'Method'],\n",
       "  ['three', 'CD', 'Qty'],\n",
       "  ['capsules', 'NNS', 'Form'],\n",
       "  ['tid', 'NN', 'TID'],\n",
       "  ['orally', 'RB', 'PO']],\n",
       " [['take', 'VB', 'Method'],\n",
       "  ['2', 'CD', 'Qty'],\n",
       "  ['capsules', 'NNS', 'Form'],\n",
       "  ['po', 'NN', 'PO'],\n",
       "  ['every', 'DT', 'EVERY'],\n",
       "  ['6', 'CD', 'Period'],\n",
       "  ['hours', 'NNS', 'PeriodUnit']],\n",
       " [['take', 'VB', 'Method'],\n",
       "  ['2', 'CD', 'Qty'],\n",
       "  ['tabs', 'NNS', 'Form'],\n",
       "  ['po', 'NN', 'PO'],\n",
       "  ['for', 'IN', 'FOR'],\n",
       "  ['10', 'CD', 'Duration'],\n",
       "  ['days', 'NNS', 'DurationUnit']],\n",
       " [['take', 'VB', 'Method'],\n",
       "  ['100', 'CD', 'Qty'],\n",
       "  ['caps', 'NNS', 'Form'],\n",
       "  ['by', 'IN', 'BY'],\n",
       "  ['mouth', 'NN', 'PO'],\n",
       "  ['tid', 'NN', 'TID'],\n",
       "  ['for', 'IN', 'FOR'],\n",
       "  ['10', 'CD', 'Duration'],\n",
       "  ['weeks', 'NNS', 'DurationUnit']],\n",
       " [['take', 'VB', 'Method'],\n",
       "  ['2', 'CD', 'Qty'],\n",
       "  ['tabs', 'NNS', 'Form'],\n",
       "  ['after', 'IN', 'AFTER'],\n",
       "  ['an', 'DT', 'Period'],\n",
       "  ['hour', 'NN', 'PeriodUnit']],\n",
       " [['2', 'CD', 'Qty'],\n",
       "  ['tabs', 'NNS', 'Form'],\n",
       "  ['every', 'DT', 'EVERY'],\n",
       "  ['4-6', 'JJ', 'Period'],\n",
       "  ['hours', 'NNS', 'PeriodUnit']],\n",
       " [['every', 'DT', 'EVERY'],\n",
       "  ['4', 'CD', 'Period'],\n",
       "  ['to', 'TO', 'TO'],\n",
       "  ['6', 'CD', 'PeriodMax'],\n",
       "  ['hours', 'NNS', 'PeriodUnit']],\n",
       " [['q46h', 'NN', 'Q46H']],\n",
       " [['q4-6h', 'NN', 'Q4-6H']],\n",
       " [['2', 'CD', 'Qty'],\n",
       "  ['hours', 'NNS', 'PeriodUnit'],\n",
       "  ['before', 'IN', 'BEFORE'],\n",
       "  ['breakfast', 'NN', 'WHEN']],\n",
       " [['before', 'IN', 'BEFORE'],\n",
       "  ['30', 'CD', 'Qty'],\n",
       "  ['mins', 'NNS', 'M'],\n",
       "  ['at', 'IN', 'AT'],\n",
       "  ['bedtime', 'NN', 'WHEN']],\n",
       " [['30', 'CD', 'Qty'],\n",
       "  ['mins', 'NNS', 'M'],\n",
       "  ['before', 'IN', 'BEFORE'],\n",
       "  ['bed', 'NN', 'WHEN']],\n",
       " [['and', 'CC', 'AND'],\n",
       "  ['100', 'CD', 'Qty'],\n",
       "  ['tabs', 'NNS', 'Form'],\n",
       "  ['twice', 'RB', 'Frequency'],\n",
       "  ['a', 'DT', 'Period'],\n",
       "  ['month', 'NN', 'PeriodUnit']],\n",
       " [['100', 'CD', 'Qty'],\n",
       "  ['tabs', 'NNS', 'Form'],\n",
       "  ['twice', 'RB', 'Frequency'],\n",
       "  ['a', 'DT', 'Period'],\n",
       "  ['month', 'NN', 'PeriodUnit']],\n",
       " [['100', 'CD', 'Qty'],\n",
       "  ['tabs', 'NNS', 'Form'],\n",
       "  ['once', 'RB', 'Frequency'],\n",
       "  ['a', 'DT', 'Period'],\n",
       "  ['month', 'NN', 'PeriodUnit']],\n",
       " [['100', 'CD', 'Qty'],\n",
       "  ['tabs', 'NNS', 'Form'],\n",
       "  ['thrice', 'NN', 'Frequency'],\n",
       "  ['a', 'DT', 'Period'],\n",
       "  ['month', 'NN', 'PeriodUnit']],\n",
       " [['3', 'CD', 'Qty'],\n",
       "  ['tabs', 'NNS', 'Form'],\n",
       "  ['daily', 'JJ', 'Frequency'],\n",
       "  ['for', 'IN', 'FOR'],\n",
       "  ['3', 'CD', 'Duration'],\n",
       "  ['days', 'NNS', 'DurationUnit'],\n",
       "  ['then', 'RB', 'THEN'],\n",
       "  ['1', 'CD', 'Qty'],\n",
       "  ['tab', 'NN', 'Form'],\n",
       "  ['per', 'IN', 'Frequency'],\n",
       "  ['day', 'NN', 'PeriodUnit'],\n",
       "  ['at', 'IN', 'AT'],\n",
       "  ['bed', 'NN', 'WHEN']],\n",
       " [['30', 'CD', 'Qty'],\n",
       "  ['tabs', 'NNS', 'Form'],\n",
       "  ['10', 'CD', 'Duration'],\n",
       "  ['days', 'NNS', 'DurationUnit'],\n",
       "  ['tid', 'NN', 'TID']],\n",
       " [['take', 'VB', 'Method'],\n",
       "  ['30', 'CD', 'Qty'],\n",
       "  ['tabs', 'NNS', 'Form'],\n",
       "  ['for', 'IN', 'FOR'],\n",
       "  ['10', 'CD', 'Duration'],\n",
       "  ['days', 'NNS', 'DurationUnit'],\n",
       "  ['three', 'CD', 'Qty'],\n",
       "  ['times', 'NNS', 'TIMES'],\n",
       "  ['a', 'DT', 'Period'],\n",
       "  ['day', 'NN', 'PeriodUnit']],\n",
       " [['qid', 'NN', 'QID'], ['q6h', 'NN', 'Q6H']],\n",
       " [['bid', 'NN', 'BID']],\n",
       " [['qid', 'NN', 'QID']],\n",
       " [['30', 'CD', 'Qty'],\n",
       "  ['tabs', 'NNS', 'Form'],\n",
       "  ['before', 'IN', 'BEFORE'],\n",
       "  ['dinner', 'NN', 'WHEN'],\n",
       "  ['and', 'CC', 'AND'],\n",
       "  ['bedtime', 'NN', 'WHEN']],\n",
       " [['30', 'CD', 'Qty'],\n",
       "  ['tabs', 'NNS', 'Form'],\n",
       "  ['before', 'IN', 'BEFORE'],\n",
       "  ['dinner', 'NN', 'WHEN'],\n",
       "  ['&', 'CC', 'AND'],\n",
       "  ['bedtime', 'NN', 'WHEN']],\n",
       " [['take', 'VB', 'Method'],\n",
       "  ['3', 'CD', 'Qty'],\n",
       "  ['tabs', 'NNS', 'Form'],\n",
       "  ['at', 'IN', 'AT'],\n",
       "  ['bedtime', 'NN', 'WHEN']],\n",
       " [['30', 'CD', 'Qty'],\n",
       "  ['tabs', 'NNS', 'Form'],\n",
       "  ['thrice', 'NN', 'Frequency'],\n",
       "  ['daily', 'JJ', 'DAILY'],\n",
       "  ['for', 'IN', 'FOR'],\n",
       "  ['10', 'CD', 'Duration'],\n",
       "  ['days', 'NNS', 'DurationUnit']],\n",
       " [['30', 'CD', 'Qty'],\n",
       "  ['tabs', 'NNS', 'Form'],\n",
       "  ['for', 'IN', 'FOR'],\n",
       "  ['10', 'CD', 'Duration'],\n",
       "  ['days', 'NNS', 'DurationUnit'],\n",
       "  ['three', 'CD', 'Frequency'],\n",
       "  ['times', 'NNS', 'TIMES'],\n",
       "  ['a', 'DT', 'Period'],\n",
       "  ['day', 'NN', 'PeriodUnit']],\n",
       " [['take', 'VB', 'Method'],\n",
       "  ['2', 'CD', 'Qty'],\n",
       "  ['tablets', 'NNS', 'Form'],\n",
       "  ['a', 'DT', 'Period'],\n",
       "  ['day', 'NN', 'PeriodUnit']],\n",
       " [['qid', 'NN', 'QID'],\n",
       "  ['for', 'IN', 'FOR'],\n",
       "  ['10', 'CD', 'Duration'],\n",
       "  ['days', 'NNS', 'DurationUnit']],\n",
       " [['every', 'DT', 'EVERY'], ['day', 'NN', 'PeriodUnit']],\n",
       " [['take', 'VB', 'Method'],\n",
       "  ['2', 'CD', 'Qty'],\n",
       "  ['caps', 'NNS', 'Form'],\n",
       "  ['at', 'IN', 'AT'],\n",
       "  ['bedtime', 'NN', 'WHEN']],\n",
       " [['apply', 'VB', 'Method'],\n",
       "  ['3', 'CD', 'Qty'],\n",
       "  ['drops', 'NNS', 'Form'],\n",
       "  ['before', 'IN', 'BEFORE'],\n",
       "  ['bedtime', 'NN', 'WHEN']],\n",
       " [['take', 'VB', 'Method'],\n",
       "  ['three', 'CD', 'Qty'],\n",
       "  ['capsules', 'NNS', 'Form'],\n",
       "  ['daily', 'JJ', 'DAILY']],\n",
       " [['swallow', 'NN', 'Method'],\n",
       "  ['3', 'CD', 'Qty'],\n",
       "  ['pills', 'NNS', 'Form'],\n",
       "  ['once', 'RB', 'Frequency'],\n",
       "  ['a', 'DT', 'Period'],\n",
       "  ['day', 'NN', 'PeriodUnit']],\n",
       " [['swallow', 'NN', 'Method'],\n",
       "  ['three', 'CD', 'Qty'],\n",
       "  ['pills', 'NNS', 'Form'],\n",
       "  ['thrice', 'NN', 'Frequency'],\n",
       "  ['a', 'DT', 'Period'],\n",
       "  ['day', 'NN', 'PeriodUnit']],\n",
       " [['apply', 'VB', 'Method'], ['daily', 'JJ', 'DAILY']],\n",
       " [['apply', 'VB', 'Method'],\n",
       "  ['three', 'CD', 'Qty'],\n",
       "  ['drops', 'NNS', 'Form'],\n",
       "  ['before', 'IN', 'BEFORE'],\n",
       "  ['bedtime', 'NN', 'WHEN']],\n",
       " [['every', 'DT', 'EVERY'],\n",
       "  ['6', 'CD', 'Period'],\n",
       "  ['hours', 'NNS', 'PeriodUnit']],\n",
       " [['before', 'IN', 'BEFORE'], ['food', 'NN', 'FOOD']],\n",
       " [['after', 'IN', 'AFTER'], ['food', 'NN', 'FOOD']],\n",
       " [['for', 'IN', 'FOR'],\n",
       "  ['20', 'CD', 'Duration'],\n",
       "  ['days', 'NNS', 'DurationUnit']],\n",
       " [['for', 'IN', 'FOR'],\n",
       "  ['twenty', 'NN', 'Duration'],\n",
       "  ['days', 'NNS', 'DurationUnit']],\n",
       " [['with', 'IN', 'WITH'], ['meals', 'NNS', 'FOOD']]]"
      ]
     },
     "execution_count": 172,
     "metadata": {},
     "output_type": "execute_result"
    }
   ],
   "source": [
    "sample_data"
   ]
  },
  {
   "cell_type": "markdown",
   "metadata": {},
   "source": [
    "### Creating the features extractor method (GIVEN as a BASELINE)\n",
    "#### The features used are:\n",
    "- SOS, EOS, lowercase, uppercase, title, digit, postag, previous_tag, next_tag\n",
    "#### Feel free to include more features"
   ]
  },
  {
   "cell_type": "code",
   "execution_count": 173,
   "metadata": {},
   "outputs": [],
   "source": [
    "def token_to_features(doc, i):\n",
    "    word = doc[i][0]\n",
    "    postag = doc[i][1]\n",
    "\n",
    "    # Common features for all words\n",
    "    features = [\n",
    "        'bias',\n",
    "        'word.lower=' + word.lower(),\n",
    "        'word[-3:]=' + word[-3:],\n",
    "        'word[-2:]=' + word[-2:],\n",
    "        'word.isupper=%s' % word.isupper(),\n",
    "        'word.istitle=%s' % word.istitle(),\n",
    "        'word.isdigit=%s' % word.isdigit(),\n",
    "        'postag=' + postag\n",
    "    ]\n",
    "\n",
    "    # Features for words that are not\n",
    "    # at the beginning of a document\n",
    "    if i > 0:\n",
    "        word1 = doc[i-1][0]\n",
    "        postag1 = doc[i-1][1]\n",
    "        features.extend([\n",
    "            '-1:word.lower=' + word1.lower(),\n",
    "            '-1:word.istitle=%s' % word1.istitle(),\n",
    "            '-1:word.isupper=%s' % word1.isupper(),\n",
    "            '-1:word.isdigit=%s' % word1.isdigit(),\n",
    "            '-1:postag=' + postag1\n",
    "        ])\n",
    "    else:\n",
    "        # Indicate that it is the 'beginning of a document'\n",
    "        features.append('BOS')\n",
    "\n",
    "    # Features for words that are not\n",
    "    # at the end of a document\n",
    "    if i < len(doc)-1:\n",
    "        word1 = doc[i+1][0]\n",
    "        postag1 = doc[i+1][1]\n",
    "        features.extend([\n",
    "            '+1:word.lower=' + word1.lower(),\n",
    "            '+1:word.istitle=%s' % word1.istitle(),\n",
    "            '+1:word.isupper=%s' % word1.isupper(),\n",
    "            '+1:word.isdigit=%s' % word1.isdigit(),\n",
    "            '+1:postag=' + postag1\n",
    "        ])\n",
    "    else:\n",
    "        # Indicate that it is the 'end of a document'\n",
    "        features.append('EOS')\n",
    "\n",
    "    return features"
   ]
  },
  {
   "cell_type": "markdown",
   "metadata": {},
   "source": [
    "### Running the feature extractor on the training data \n",
    "- Feature extraction\n",
    "- Train-test-split"
   ]
  },
  {
   "cell_type": "code",
   "execution_count": 174,
   "metadata": {},
   "outputs": [
    {
     "data": {
      "text/plain": [
       "[[['for', 'IN', 'FOR'],\n",
       "  ['5', 'CD', 'Duration'],\n",
       "  ['to', 'TO', 'TO'],\n",
       "  ['6', 'CD', 'DurationMax'],\n",
       "  ['days', 'NNS', 'DurationUnit']],\n",
       " [['inject', 'NN', 'Method'], ['2', 'CD', 'Qty'], ['units', 'NNS', 'Form']],\n",
       " [['x', 'NN', 'FOR'],\n",
       "  ['2', 'CD', 'Duration'],\n",
       "  ['weeks', 'NNS', 'DurationUnit']],\n",
       " [['x', 'NN', 'FOR'],\n",
       "  ['3', 'CD', 'Duration'],\n",
       "  ['days', 'NNS', 'DurationUnit']],\n",
       " [['every', 'DT', 'EVERY'], ['day', 'NN', 'Period']],\n",
       " [['every', 'DT', 'EVERY'],\n",
       "  ['2', 'CD', 'Period'],\n",
       "  ['weeks', 'NNS', 'PeriodUnit']],\n",
       " [['every', 'DT', 'EVERY'],\n",
       "  ['3', 'CD', 'Period'],\n",
       "  ['days', 'NNS', 'PeriodUnit']],\n",
       " [['every', 'DT', 'EVERY'],\n",
       "  ['1', 'CD', 'Period'],\n",
       "  ['to', 'TO', 'TO'],\n",
       "  ['2', 'CD', 'PeriodMax'],\n",
       "  ['months', 'NNS', 'PeriodUnit']],\n",
       " [['every', 'DT', 'EVERY'],\n",
       "  ['2', 'CD', 'Period'],\n",
       "  ['to', 'TO', 'TO'],\n",
       "  ['6', 'CD', 'PeriodMax'],\n",
       "  ['weeks', 'NNS', 'PeriodUnit']],\n",
       " [['every', 'DT', 'EVERY'],\n",
       "  ['4', 'CD', 'Period'],\n",
       "  ['to', 'TO', 'TO'],\n",
       "  ['6', 'CD', 'PeriodMax'],\n",
       "  ['days', 'NNS', 'PeriodUnit']],\n",
       " [['take', 'VB', 'Method'],\n",
       "  ['two', 'CD', 'Qty'],\n",
       "  ['to', 'TO', 'TO'],\n",
       "  ['four', 'CD', 'Qty'],\n",
       "  ['tabs', 'NNS', 'Form']],\n",
       " [['take', 'VB', 'Method'],\n",
       "  ['2', 'CD', 'Qty'],\n",
       "  ['to', 'TO', 'TO'],\n",
       "  ['4', 'CD', 'Qty'],\n",
       "  ['tabs', 'NNS', 'Form']],\n",
       " [['take', 'VB', 'Method'],\n",
       "  ['3', 'CD', 'Qty'],\n",
       "  ['tabs', 'NNS', 'Form'],\n",
       "  ['orally', 'RB', 'PO'],\n",
       "  ['bid', 'NN', 'BID'],\n",
       "  ['for', 'IN', 'FOR'],\n",
       "  ['10', 'CD', 'Duration'],\n",
       "  ['days', 'NNS', 'DurationUnit'],\n",
       "  ['at', 'IN', 'AT'],\n",
       "  ['bedtime', 'NN', 'WHEN']],\n",
       " [['swallow', 'NN', 'Method'],\n",
       "  ['three', 'CD', 'Qty'],\n",
       "  ['capsules', 'NNS', 'Form'],\n",
       "  ['tid', 'NN', 'TID'],\n",
       "  ['orally', 'RB', 'PO']],\n",
       " [['take', 'VB', 'Method'],\n",
       "  ['2', 'CD', 'Qty'],\n",
       "  ['capsules', 'NNS', 'Form'],\n",
       "  ['po', 'NN', 'PO'],\n",
       "  ['every', 'DT', 'EVERY'],\n",
       "  ['6', 'CD', 'Period'],\n",
       "  ['hours', 'NNS', 'PeriodUnit']],\n",
       " [['take', 'VB', 'Method'],\n",
       "  ['2', 'CD', 'Qty'],\n",
       "  ['tabs', 'NNS', 'Form'],\n",
       "  ['po', 'NN', 'PO'],\n",
       "  ['for', 'IN', 'FOR'],\n",
       "  ['10', 'CD', 'Duration'],\n",
       "  ['days', 'NNS', 'DurationUnit']],\n",
       " [['take', 'VB', 'Method'],\n",
       "  ['100', 'CD', 'Qty'],\n",
       "  ['caps', 'NNS', 'Form'],\n",
       "  ['by', 'IN', 'BY'],\n",
       "  ['mouth', 'NN', 'PO'],\n",
       "  ['tid', 'NN', 'TID'],\n",
       "  ['for', 'IN', 'FOR'],\n",
       "  ['10', 'CD', 'Duration'],\n",
       "  ['weeks', 'NNS', 'DurationUnit']],\n",
       " [['take', 'VB', 'Method'],\n",
       "  ['2', 'CD', 'Qty'],\n",
       "  ['tabs', 'NNS', 'Form'],\n",
       "  ['after', 'IN', 'AFTER'],\n",
       "  ['an', 'DT', 'Period'],\n",
       "  ['hour', 'NN', 'PeriodUnit']],\n",
       " [['2', 'CD', 'Qty'],\n",
       "  ['tabs', 'NNS', 'Form'],\n",
       "  ['every', 'DT', 'EVERY'],\n",
       "  ['4-6', 'JJ', 'Period'],\n",
       "  ['hours', 'NNS', 'PeriodUnit']],\n",
       " [['every', 'DT', 'EVERY'],\n",
       "  ['4', 'CD', 'Period'],\n",
       "  ['to', 'TO', 'TO'],\n",
       "  ['6', 'CD', 'PeriodMax'],\n",
       "  ['hours', 'NNS', 'PeriodUnit']],\n",
       " [['q46h', 'NN', 'Q46H']],\n",
       " [['q4-6h', 'NN', 'Q4-6H']],\n",
       " [['2', 'CD', 'Qty'],\n",
       "  ['hours', 'NNS', 'PeriodUnit'],\n",
       "  ['before', 'IN', 'BEFORE'],\n",
       "  ['breakfast', 'NN', 'WHEN']],\n",
       " [['before', 'IN', 'BEFORE'],\n",
       "  ['30', 'CD', 'Qty'],\n",
       "  ['mins', 'NNS', 'M'],\n",
       "  ['at', 'IN', 'AT'],\n",
       "  ['bedtime', 'NN', 'WHEN']],\n",
       " [['30', 'CD', 'Qty'],\n",
       "  ['mins', 'NNS', 'M'],\n",
       "  ['before', 'IN', 'BEFORE'],\n",
       "  ['bed', 'NN', 'WHEN']],\n",
       " [['and', 'CC', 'AND'],\n",
       "  ['100', 'CD', 'Qty'],\n",
       "  ['tabs', 'NNS', 'Form'],\n",
       "  ['twice', 'RB', 'Frequency'],\n",
       "  ['a', 'DT', 'Period'],\n",
       "  ['month', 'NN', 'PeriodUnit']],\n",
       " [['100', 'CD', 'Qty'],\n",
       "  ['tabs', 'NNS', 'Form'],\n",
       "  ['twice', 'RB', 'Frequency'],\n",
       "  ['a', 'DT', 'Period'],\n",
       "  ['month', 'NN', 'PeriodUnit']],\n",
       " [['100', 'CD', 'Qty'],\n",
       "  ['tabs', 'NNS', 'Form'],\n",
       "  ['once', 'RB', 'Frequency'],\n",
       "  ['a', 'DT', 'Period'],\n",
       "  ['month', 'NN', 'PeriodUnit']],\n",
       " [['100', 'CD', 'Qty'],\n",
       "  ['tabs', 'NNS', 'Form'],\n",
       "  ['thrice', 'NN', 'Frequency'],\n",
       "  ['a', 'DT', 'Period'],\n",
       "  ['month', 'NN', 'PeriodUnit']],\n",
       " [['3', 'CD', 'Qty'],\n",
       "  ['tabs', 'NNS', 'Form'],\n",
       "  ['daily', 'JJ', 'Frequency'],\n",
       "  ['for', 'IN', 'FOR'],\n",
       "  ['3', 'CD', 'Duration'],\n",
       "  ['days', 'NNS', 'DurationUnit'],\n",
       "  ['then', 'RB', 'THEN'],\n",
       "  ['1', 'CD', 'Qty'],\n",
       "  ['tab', 'NN', 'Form'],\n",
       "  ['per', 'IN', 'Frequency'],\n",
       "  ['day', 'NN', 'PeriodUnit'],\n",
       "  ['at', 'IN', 'AT'],\n",
       "  ['bed', 'NN', 'WHEN']],\n",
       " [['30', 'CD', 'Qty'],\n",
       "  ['tabs', 'NNS', 'Form'],\n",
       "  ['10', 'CD', 'Duration'],\n",
       "  ['days', 'NNS', 'DurationUnit'],\n",
       "  ['tid', 'NN', 'TID']],\n",
       " [['take', 'VB', 'Method'],\n",
       "  ['30', 'CD', 'Qty'],\n",
       "  ['tabs', 'NNS', 'Form'],\n",
       "  ['for', 'IN', 'FOR'],\n",
       "  ['10', 'CD', 'Duration'],\n",
       "  ['days', 'NNS', 'DurationUnit'],\n",
       "  ['three', 'CD', 'Qty'],\n",
       "  ['times', 'NNS', 'TIMES'],\n",
       "  ['a', 'DT', 'Period'],\n",
       "  ['day', 'NN', 'PeriodUnit']],\n",
       " [['qid', 'NN', 'QID'], ['q6h', 'NN', 'Q6H']],\n",
       " [['bid', 'NN', 'BID']],\n",
       " [['qid', 'NN', 'QID']],\n",
       " [['30', 'CD', 'Qty'],\n",
       "  ['tabs', 'NNS', 'Form'],\n",
       "  ['before', 'IN', 'BEFORE'],\n",
       "  ['dinner', 'NN', 'WHEN'],\n",
       "  ['and', 'CC', 'AND'],\n",
       "  ['bedtime', 'NN', 'WHEN']],\n",
       " [['30', 'CD', 'Qty'],\n",
       "  ['tabs', 'NNS', 'Form'],\n",
       "  ['before', 'IN', 'BEFORE'],\n",
       "  ['dinner', 'NN', 'WHEN'],\n",
       "  ['&', 'CC', 'AND'],\n",
       "  ['bedtime', 'NN', 'WHEN']],\n",
       " [['take', 'VB', 'Method'],\n",
       "  ['3', 'CD', 'Qty'],\n",
       "  ['tabs', 'NNS', 'Form'],\n",
       "  ['at', 'IN', 'AT'],\n",
       "  ['bedtime', 'NN', 'WHEN']],\n",
       " [['30', 'CD', 'Qty'],\n",
       "  ['tabs', 'NNS', 'Form'],\n",
       "  ['thrice', 'NN', 'Frequency'],\n",
       "  ['daily', 'JJ', 'DAILY'],\n",
       "  ['for', 'IN', 'FOR'],\n",
       "  ['10', 'CD', 'Duration'],\n",
       "  ['days', 'NNS', 'DurationUnit']],\n",
       " [['30', 'CD', 'Qty'],\n",
       "  ['tabs', 'NNS', 'Form'],\n",
       "  ['for', 'IN', 'FOR'],\n",
       "  ['10', 'CD', 'Duration'],\n",
       "  ['days', 'NNS', 'DurationUnit'],\n",
       "  ['three', 'CD', 'Frequency'],\n",
       "  ['times', 'NNS', 'TIMES'],\n",
       "  ['a', 'DT', 'Period'],\n",
       "  ['day', 'NN', 'PeriodUnit']],\n",
       " [['take', 'VB', 'Method'],\n",
       "  ['2', 'CD', 'Qty'],\n",
       "  ['tablets', 'NNS', 'Form'],\n",
       "  ['a', 'DT', 'Period'],\n",
       "  ['day', 'NN', 'PeriodUnit']],\n",
       " [['qid', 'NN', 'QID'],\n",
       "  ['for', 'IN', 'FOR'],\n",
       "  ['10', 'CD', 'Duration'],\n",
       "  ['days', 'NNS', 'DurationUnit']],\n",
       " [['every', 'DT', 'EVERY'], ['day', 'NN', 'PeriodUnit']],\n",
       " [['take', 'VB', 'Method'],\n",
       "  ['2', 'CD', 'Qty'],\n",
       "  ['caps', 'NNS', 'Form'],\n",
       "  ['at', 'IN', 'AT'],\n",
       "  ['bedtime', 'NN', 'WHEN']],\n",
       " [['apply', 'VB', 'Method'],\n",
       "  ['3', 'CD', 'Qty'],\n",
       "  ['drops', 'NNS', 'Form'],\n",
       "  ['before', 'IN', 'BEFORE'],\n",
       "  ['bedtime', 'NN', 'WHEN']],\n",
       " [['take', 'VB', 'Method'],\n",
       "  ['three', 'CD', 'Qty'],\n",
       "  ['capsules', 'NNS', 'Form'],\n",
       "  ['daily', 'JJ', 'DAILY']],\n",
       " [['swallow', 'NN', 'Method'],\n",
       "  ['3', 'CD', 'Qty'],\n",
       "  ['pills', 'NNS', 'Form'],\n",
       "  ['once', 'RB', 'Frequency'],\n",
       "  ['a', 'DT', 'Period'],\n",
       "  ['day', 'NN', 'PeriodUnit']],\n",
       " [['swallow', 'NN', 'Method'],\n",
       "  ['three', 'CD', 'Qty'],\n",
       "  ['pills', 'NNS', 'Form'],\n",
       "  ['thrice', 'NN', 'Frequency'],\n",
       "  ['a', 'DT', 'Period'],\n",
       "  ['day', 'NN', 'PeriodUnit']],\n",
       " [['apply', 'VB', 'Method'], ['daily', 'JJ', 'DAILY']],\n",
       " [['apply', 'VB', 'Method'],\n",
       "  ['three', 'CD', 'Qty'],\n",
       "  ['drops', 'NNS', 'Form'],\n",
       "  ['before', 'IN', 'BEFORE'],\n",
       "  ['bedtime', 'NN', 'WHEN']],\n",
       " [['every', 'DT', 'EVERY'],\n",
       "  ['6', 'CD', 'Period'],\n",
       "  ['hours', 'NNS', 'PeriodUnit']],\n",
       " [['before', 'IN', 'BEFORE'], ['food', 'NN', 'FOOD']],\n",
       " [['after', 'IN', 'AFTER'], ['food', 'NN', 'FOOD']],\n",
       " [['for', 'IN', 'FOR'],\n",
       "  ['20', 'CD', 'Duration'],\n",
       "  ['days', 'NNS', 'DurationUnit']],\n",
       " [['for', 'IN', 'FOR'],\n",
       "  ['twenty', 'NN', 'Duration'],\n",
       "  ['days', 'NNS', 'DurationUnit']],\n",
       " [['with', 'IN', 'WITH'], ['meals', 'NNS', 'FOOD']]]"
      ]
     },
     "execution_count": 174,
     "metadata": {},
     "output_type": "execute_result"
    }
   ],
   "source": [
    "sample_data"
   ]
  },
  {
   "cell_type": "code",
   "execution_count": 176,
   "metadata": {},
   "outputs": [],
   "source": [
    "from sklearn.model_selection import train_test_split\n",
    "\n",
    "def get_features(doc):\n",
    "    return [token_to_features(doc, i) for i in range (len(doc))]\n",
    "def get_labels(doc):\n",
    "    return [label for (token,postag,label) in doc]\n",
    "\n",
    "X = [get_features(doc) for doc in sample_data]\n",
    "y = [get_labels(doc) for doc in sample_data]\n",
    "\n",
    "X_train, X_test, y_train, y_test = train_test_split(X,y,test_size=0.2)\n"
   ]
  },
  {
   "cell_type": "code",
   "execution_count": null,
   "metadata": {},
   "outputs": [],
   "source": [
    "\n",
    "  "
   ]
  },
  {
   "cell_type": "markdown",
   "metadata": {},
   "source": [
    "### Training the CRF model with the features extracted using the feature extractor method"
   ]
  },
  {
   "cell_type": "code",
   "execution_count": 219,
   "metadata": {},
   "outputs": [
    {
     "data": {
      "text/plain": [
       "CRF(algorithm='lbfgs', c1=0.1, c2=10, keep_tempfiles=None, max_iterations=50)"
      ]
     },
     "execution_count": 219,
     "metadata": {},
     "output_type": "execute_result"
    }
   ],
   "source": [
    "from sklearn_crfsuite import CRF, metrics\n",
    "\n",
    "# Submit training data to the trainer\n",
    "# Set the parameters of the model\n",
    "crf = CRF(algorithm='lbfgs',c1=0.1,c2=10,max_iterations=50, keep_tempfiles='task1.txt')\n",
    "crf.fit(X_train,y_train)\n",
    "# Providing a file name as a parameter to the train function, such that\n",
    "# the model will be saved to the file when training is finished\n"
   ]
  },
  {
   "cell_type": "markdown",
   "metadata": {},
   "source": [
    "### Predicting the test data with the built model"
   ]
  },
  {
   "cell_type": "code",
   "execution_count": 191,
   "metadata": {
    "scrolled": true
   },
   "outputs": [
    {
     "data": {
      "text/plain": [
       "['Q4-6H',\n",
       " 'Method',\n",
       " 'Qty',\n",
       " 'Form',\n",
       " 'BEFORE',\n",
       " 'WHEN',\n",
       " 'AND',\n",
       " 'BID',\n",
       " 'EVERY',\n",
       " 'Period',\n",
       " 'TO',\n",
       " 'PeriodMax',\n",
       " 'PeriodUnit',\n",
       " 'Frequency',\n",
       " 'FOR',\n",
       " 'Duration',\n",
       " 'DurationUnit',\n",
       " 'THEN',\n",
       " 'AT',\n",
       " 'M',\n",
       " 'QID',\n",
       " 'Q6H',\n",
       " 'PO',\n",
       " 'BY',\n",
       " 'TID',\n",
       " 'DAILY',\n",
       " 'AFTER',\n",
       " 'TIMES',\n",
       " 'FOOD',\n",
       " 'WITH',\n",
       " 'Q46H']"
      ]
     },
     "execution_count": 191,
     "metadata": {},
     "output_type": "execute_result"
    }
   ],
   "source": [
    "labels = crf.classes_\n",
    "labels"
   ]
  },
  {
   "cell_type": "code",
   "execution_count": 192,
   "metadata": {},
   "outputs": [
    {
     "data": {
      "text/plain": [
       "['M',\n",
       " 'Q4-6H',\n",
       " 'Q46H',\n",
       " 'Q6H',\n",
       " 'DAILY',\n",
       " 'BEFORE',\n",
       " 'AFTER',\n",
       " 'THEN',\n",
       " 'WHEN',\n",
       " 'BID',\n",
       " 'QID',\n",
       " 'TID',\n",
       " 'TIMES',\n",
       " 'WITH',\n",
       " 'AND',\n",
       " 'PO',\n",
       " 'TO',\n",
       " 'FOOD',\n",
       " 'FOR',\n",
       " 'AT',\n",
       " 'EVERY',\n",
       " 'BY',\n",
       " 'Period',\n",
       " 'PeriodMax',\n",
       " 'PeriodUnit',\n",
       " 'Method',\n",
       " 'Form',\n",
       " 'Frequency',\n",
       " 'Qty',\n",
       " 'Duration',\n",
       " 'DurationUnit']"
      ]
     },
     "execution_count": 192,
     "metadata": {},
     "output_type": "execute_result"
    }
   ],
   "source": [
    "sorted_labels = sorted(labels, key=lambda name: (name[1:], name[0]))\n",
    "sorted_labels"
   ]
  },
  {
   "cell_type": "code",
   "execution_count": 193,
   "metadata": {},
   "outputs": [],
   "source": [
    "y_preds= crf.predict(X_test)"
   ]
  },
  {
   "cell_type": "code",
   "execution_count": 194,
   "metadata": {},
   "outputs": [
    {
     "name": "stderr",
     "output_type": "stream",
     "text": [
      "C:\\Users\\Sarah\\anaconda3\\lib\\site-packages\\sklearn\\metrics\\_classification.py:1464: UndefinedMetricWarning: F-score is ill-defined and being set to 0.0 in labels with no true nor predicted samples. Use `zero_division` parameter to control this behavior.\n",
      "  _warn_prf(\n"
     ]
    },
    {
     "data": {
      "text/plain": [
       "0.7254317807562923"
      ]
     },
     "execution_count": 194,
     "metadata": {},
     "output_type": "execute_result"
    }
   ],
   "source": [
    "f1_score= metrics.flat_f1_score(y_test,y_preds,average='weighted' , labels=labels)\n",
    "f1_score"
   ]
  },
  {
   "cell_type": "code",
   "execution_count": 203,
   "metadata": {},
   "outputs": [
    {
     "data": {
      "text/plain": [
       "[['Q4-6H']]"
      ]
     },
     "execution_count": 203,
     "metadata": {},
     "output_type": "execute_result"
    }
   ],
   "source": [
    "test = crf.predict(\"2\")\n",
    "test"
   ]
  },
  {
   "cell_type": "code",
   "execution_count": null,
   "metadata": {},
   "outputs": [],
   "source": []
  },
  {
   "cell_type": "markdown",
   "metadata": {},
   "source": [
    "### Putting all the prediction logic inside a predict method"
   ]
  },
  {
   "cell_type": "code",
   "execution_count": 197,
   "metadata": {},
   "outputs": [],
   "source": [
    "def predict(sig):\n",
    "    \"\"\"\n",
    "    predict(sig)\n",
    "    Purpose: Labels the given sig into corresponding labels\n",
    "    @param sig. A Sentence  # A medical prescription sig written by a doctor\n",
    "    @return     A list      # A list with predicted labels (first level of labeling)\n",
    "    >>> predict('2 tabs every 4 hours')\n",
    "    [['Qty', 'Form', 'EVERY', 'Period', 'PeriodUnit']]\n",
    "    >>> predict('2 tabs with food')\n",
    "    [['Qty', 'Form', 'WITH', 'FOOD']]\n",
    "    >>> predict('2 tabs qid x 30 days')\n",
    "    [['Qty', 'Form', 'QID', 'FOR', 'Duration', 'DurationUnit']]\n",
    "    \"\"\"\n",
    "    predictions = crf.predict(sig)\n",
    "    print(predictions)\n",
    "    return predictions"
   ]
  },
  {
   "cell_type": "markdown",
   "metadata": {},
   "source": [
    "### Sample predictions"
   ]
  },
  {
   "cell_type": "code",
   "execution_count": 198,
   "metadata": {},
   "outputs": [
    {
     "name": "stdout",
     "output_type": "stream",
     "text": [
      "[['Q4-6H'], ['Q4-6H'], ['Q4-6H'], ['Q4-6H'], ['Q4-6H'], ['Q4-6H'], ['Q4-6H'], ['Q4-6H'], ['Q4-6H'], ['Q4-6H'], ['Q4-6H'], ['Q4-6H'], ['Q4-6H'], ['Q4-6H'], ['Q4-6H'], ['Q4-6H'], ['Q4-6H'], ['Q4-6H'], ['Q4-6H'], ['Q4-6H'], ['Q4-6H'], ['Q4-6H'], ['Q4-6H'], ['Q4-6H'], ['Q4-6H'], ['Q4-6H'], ['Q4-6H'], ['Q4-6H'], ['Q4-6H'], ['Q4-6H'], ['Q4-6H'], ['Q4-6H'], ['Q4-6H'], ['Q4-6H'], ['Q4-6H']]\n"
     ]
    }
   ],
   "source": [
    "predictions = predict(\"take 2 tabs every 6 hours x 10 days\")"
   ]
  },
  {
   "cell_type": "code",
   "execution_count": 199,
   "metadata": {},
   "outputs": [
    {
     "name": "stdout",
     "output_type": "stream",
     "text": [
      "[['Q4-6H'], ['Q4-6H'], ['Q4-6H'], ['Q4-6H'], ['Q4-6H'], ['Q4-6H'], ['Q4-6H'], ['Q4-6H'], ['Q4-6H'], ['Q4-6H'], ['Q4-6H'], ['Q4-6H'], ['Q4-6H'], ['Q4-6H'], ['Q4-6H'], ['Q4-6H'], ['Q4-6H'], ['Q4-6H'], ['Q4-6H'], ['Q4-6H'], ['Q4-6H'], ['Q4-6H'], ['Q4-6H'], ['Q4-6H'], ['Q4-6H']]\n"
     ]
    }
   ],
   "source": [
    "predictions = predict(\"2 capsu for 10 day at bed\")"
   ]
  },
  {
   "cell_type": "code",
   "execution_count": 204,
   "metadata": {},
   "outputs": [
    {
     "name": "stdout",
     "output_type": "stream",
     "text": [
      "[['Q4-6H'], ['Q4-6H'], ['Q4-6H'], ['Q4-6H'], ['Q4-6H'], ['Q4-6H'], ['Q4-6H'], ['Q4-6H'], ['Q4-6H'], ['Q4-6H'], ['Q4-6H'], ['Q4-6H'], ['Q4-6H'], ['Q4-6H'], ['Q4-6H'], ['Q4-6H'], ['Q4-6H'], ['Q4-6H'], ['Q4-6H'], ['Q4-6H'], ['Q4-6H'], ['Q4-6H'], ['Q4-6H'], ['Q4-6H'], ['Q4-6H'], ['Q4-6H']]\n"
     ]
    }
   ],
   "source": [
    "predictions = predict(\"2 capsu for 10 days at bed\")"
   ]
  },
  {
   "cell_type": "code",
   "execution_count": 205,
   "metadata": {},
   "outputs": [
    {
     "name": "stdout",
     "output_type": "stream",
     "text": [
      "[['Q4-6H'], ['Q4-6H'], ['Q4-6H'], ['Q4-6H'], ['Q4-6H'], ['Q4-6H'], ['Q4-6H'], ['Q4-6H'], ['Q4-6H'], ['Q4-6H'], ['Q4-6H'], ['Q4-6H'], ['Q4-6H'], ['Q4-6H'], ['Q4-6H'], ['Q4-6H'], ['Q4-6H'], ['Q4-6H'], ['Q4-6H'], ['Q4-6H']]\n"
     ]
    }
   ],
   "source": [
    "predictions = predict(\"5 days 2 tabs at bed\")"
   ]
  },
  {
   "cell_type": "code",
   "execution_count": 206,
   "metadata": {},
   "outputs": [
    {
     "name": "stdout",
     "output_type": "stream",
     "text": [
      "[['Q4-6H'], ['Q4-6H'], ['Q4-6H'], ['Q4-6H'], ['Q4-6H'], ['Q4-6H'], ['Q4-6H'], ['Q4-6H'], ['Q4-6H'], ['Q4-6H'], ['Q4-6H'], ['Q4-6H'], ['Q4-6H'], ['Q4-6H'], ['Q4-6H'], ['Q4-6H'], ['Q4-6H'], ['Q4-6H'], ['Q4-6H'], ['Q4-6H'], ['Q4-6H']]\n"
     ]
    }
   ],
   "source": [
    "predictions = predict(\"3 tabs qid x 10 weeks\")"
   ]
  },
  {
   "cell_type": "code",
   "execution_count": 207,
   "metadata": {},
   "outputs": [
    {
     "name": "stdout",
     "output_type": "stream",
     "text": [
      "[['Q4-6H'], ['Q4-6H'], ['Q4-6H'], ['Q4-6H'], ['Q4-6H'], ['Q4-6H'], ['Q4-6H'], ['Q4-6H'], ['Q4-6H']]\n"
     ]
    }
   ],
   "source": [
    "predictions = predict(\"x 30 days\")"
   ]
  },
  {
   "cell_type": "code",
   "execution_count": 208,
   "metadata": {},
   "outputs": [
    {
     "name": "stdout",
     "output_type": "stream",
     "text": [
      "[['Q4-6H'], ['Q4-6H'], ['Q4-6H'], ['Q4-6H'], ['Q4-6H'], ['Q4-6H'], ['Q4-6H'], ['Q4-6H'], ['Q4-6H'], ['Q4-6H'], ['Q4-6H']]\n"
     ]
    }
   ],
   "source": [
    "predictions = predict(\"x 20 months\")"
   ]
  },
  {
   "cell_type": "code",
   "execution_count": 209,
   "metadata": {},
   "outputs": [
    {
     "name": "stdout",
     "output_type": "stream",
     "text": [
      "[['Q4-6H'], ['Q4-6H'], ['Q4-6H'], ['Q4-6H'], ['Q4-6H'], ['Q4-6H'], ['Q4-6H'], ['Q4-6H'], ['Q4-6H'], ['Q4-6H'], ['Q4-6H'], ['Q4-6H'], ['Q4-6H'], ['Q4-6H'], ['Q4-6H'], ['Q4-6H'], ['Q4-6H'], ['Q4-6H'], ['Q4-6H'], ['Q4-6H'], ['Q4-6H'], ['Q4-6H'], ['Q4-6H'], ['Q4-6H'], ['Q4-6H'], ['Q4-6H'], ['Q4-6H'], ['Q4-6H'], ['Q4-6H'], ['Q4-6H']]\n"
     ]
    }
   ],
   "source": [
    "predictions = predict(\"take 2 tabs po tid for 10 days\")"
   ]
  },
  {
   "cell_type": "code",
   "execution_count": 210,
   "metadata": {},
   "outputs": [
    {
     "name": "stdout",
     "output_type": "stream",
     "text": [
      "[['Q4-6H'], ['Q4-6H'], ['Q4-6H'], ['Q4-6H'], ['Q4-6H'], ['Q4-6H'], ['Q4-6H'], ['Q4-6H'], ['Q4-6H'], ['Q4-6H'], ['Q4-6H'], ['Q4-6H'], ['Q4-6H'], ['Q4-6H'], ['Q4-6H'], ['Q4-6H'], ['Q4-6H'], ['Q4-6H'], ['Q4-6H'], ['Q4-6H'], ['Q4-6H'], ['Q4-6H'], ['Q4-6H'], ['Q4-6H'], ['Q4-6H'], ['Q4-6H'], ['Q4-6H'], ['Q4-6H'], ['Q4-6H'], ['Q4-6H'], ['Q4-6H'], ['Q4-6H']]\n"
     ]
    }
   ],
   "source": [
    "predictions = predict(\"take 2 capsules po every 6 hours\")"
   ]
  },
  {
   "cell_type": "code",
   "execution_count": 211,
   "metadata": {},
   "outputs": [
    {
     "name": "stdout",
     "output_type": "stream",
     "text": [
      "[['Q4-6H'], ['Q4-6H'], ['Q4-6H'], ['Q4-6H'], ['Q4-6H'], ['Q4-6H'], ['Q4-6H'], ['Q4-6H'], ['Q4-6H'], ['Q4-6H'], ['Q4-6H'], ['Q4-6H'], ['Q4-6H'], ['Q4-6H'], ['Q4-6H'], ['Q4-6H'], ['Q4-6H'], ['Q4-6H'], ['Q4-6H'], ['Q4-6H'], ['Q4-6H']]\n"
     ]
    }
   ],
   "source": [
    "predictions = predict(\"inject 2 units pu tid\")"
   ]
  },
  {
   "cell_type": "code",
   "execution_count": 212,
   "metadata": {},
   "outputs": [
    {
     "name": "stdout",
     "output_type": "stream",
     "text": [
      "[['Q4-6H'], ['Q4-6H'], ['Q4-6H'], ['Q4-6H'], ['Q4-6H'], ['Q4-6H'], ['Q4-6H'], ['Q4-6H'], ['Q4-6H'], ['Q4-6H'], ['Q4-6H'], ['Q4-6H'], ['Q4-6H'], ['Q4-6H'], ['Q4-6H'], ['Q4-6H'], ['Q4-6H'], ['Q4-6H'], ['Q4-6H'], ['Q4-6H'], ['Q4-6H'], ['Q4-6H'], ['Q4-6H'], ['Q4-6H'], ['Q4-6H'], ['Q4-6H'], ['Q4-6H']]\n"
     ]
    }
   ],
   "source": [
    "predictions = predict(\"swallow 3 caps tid by mouth\")"
   ]
  },
  {
   "cell_type": "code",
   "execution_count": 213,
   "metadata": {},
   "outputs": [
    {
     "name": "stdout",
     "output_type": "stream",
     "text": [
      "[['Q4-6H'], ['Q4-6H'], ['Q4-6H'], ['Q4-6H'], ['Q4-6H'], ['Q4-6H'], ['Q4-6H'], ['Q4-6H'], ['Q4-6H'], ['Q4-6H'], ['Q4-6H'], ['Q4-6H'], ['Q4-6H'], ['Q4-6H'], ['Q4-6H'], ['Q4-6H'], ['Q4-6H'], ['Q4-6H'], ['Q4-6H'], ['Q4-6H'], ['Q4-6H']]\n"
     ]
    }
   ],
   "source": [
    "predictions = predict(\"inject 3 units orally\")"
   ]
  },
  {
   "cell_type": "code",
   "execution_count": 214,
   "metadata": {},
   "outputs": [
    {
     "name": "stdout",
     "output_type": "stream",
     "text": [
      "[['Q4-6H'], ['Q4-6H'], ['Q4-6H'], ['Q4-6H'], ['Q4-6H'], ['Q4-6H'], ['Q4-6H'], ['Q4-6H'], ['Q4-6H'], ['Q4-6H'], ['Q4-6H'], ['Q4-6H'], ['Q4-6H'], ['Q4-6H'], ['Q4-6H'], ['Q4-6H'], ['Q4-6H'], ['Q4-6H'], ['Q4-6H'], ['Q4-6H'], ['Q4-6H'], ['Q4-6H']]\n"
     ]
    }
   ],
   "source": [
    "predictions = predict(\"orally take 3 tabs tid\")"
   ]
  },
  {
   "cell_type": "code",
   "execution_count": 215,
   "metadata": {},
   "outputs": [
    {
     "name": "stdout",
     "output_type": "stream",
     "text": [
      "[['Q4-6H'], ['Q4-6H'], ['Q4-6H'], ['Q4-6H'], ['Q4-6H'], ['Q4-6H'], ['Q4-6H'], ['Q4-6H'], ['Q4-6H'], ['Q4-6H'], ['Q4-6H'], ['Q4-6H'], ['Q4-6H'], ['Q4-6H'], ['Q4-6H'], ['Q4-6H'], ['Q4-6H'], ['Q4-6H'], ['Q4-6H'], ['Q4-6H'], ['Q4-6H'], ['Q4-6H'], ['Q4-6H'], ['Q4-6H']]\n"
     ]
    }
   ],
   "source": [
    "predictions = predict(\"by mouth take three caps\")"
   ]
  },
  {
   "cell_type": "code",
   "execution_count": 216,
   "metadata": {},
   "outputs": [
    {
     "name": "stdout",
     "output_type": "stream",
     "text": [
      "[['Q4-6H'], ['Q4-6H'], ['Q4-6H'], ['Q4-6H'], ['Q4-6H'], ['Q4-6H'], ['Q4-6H'], ['Q4-6H'], ['Q4-6H'], ['Q4-6H'], ['Q4-6H'], ['Q4-6H'], ['Q4-6H'], ['Q4-6H'], ['Q4-6H'], ['Q4-6H'], ['Q4-6H'], ['Q4-6H'], ['Q4-6H'], ['Q4-6H'], ['Q4-6H'], ['Q4-6H'], ['Q4-6H'], ['Q4-6H'], ['Q4-6H'], ['Q4-6H'], ['Q4-6H'], ['Q4-6H'], ['Q4-6H'], ['Q4-6H'], ['Q4-6H'], ['Q4-6H'], ['Q4-6H'], ['Q4-6H'], ['Q4-6H'], ['Q4-6H'], ['Q4-6H'], ['Q4-6H'], ['Q4-6H'], ['Q4-6H'], ['Q4-6H'], ['Q4-6H'], ['Q4-6H'], ['Q4-6H'], ['Q4-6H'], ['Q4-6H'], ['Q4-6H'], ['Q4-6H'], ['Q4-6H'], ['Q4-6H'], ['Q4-6H'], ['Q4-6H'], ['Q4-6H'], ['Q4-6H'], ['Q4-6H'], ['Q4-6H'], ['Q4-6H'], ['Q4-6H'], ['Q4-6H']]\n"
     ]
    }
   ],
   "source": [
    "predictions = predict(\"take 3 tabs orally three times a day for 10 days at bedtime\")"
   ]
  },
  {
   "cell_type": "code",
   "execution_count": 32,
   "metadata": {},
   "outputs": [
    {
     "name": "stdout",
     "output_type": "stream",
     "text": [
      "take 3 tabs orally bid for 10 days at bedtime\n",
      "[['Method', 'Qty', 'Form', 'PO', 'BID', 'FOR', 'Duration', 'DurationUnit', 'AT', 'WHEN']]\n"
     ]
    }
   ],
   "source": [
    "predictions = predict(\"take 3 tabs orally bid for 10 days at bedtime\")"
   ]
  },
  {
   "cell_type": "code",
   "execution_count": 33,
   "metadata": {},
   "outputs": [
    {
     "name": "stdout",
     "output_type": "stream",
     "text": [
      "take 3 tabs bid orally at bed\n",
      "[['Method', 'Qty', 'Form', 'BID', 'PO', 'AT', 'WHEN']]\n"
     ]
    }
   ],
   "source": [
    "predictions = predict(\"take 3 tabs bid orally at bed\")"
   ]
  },
  {
   "cell_type": "code",
   "execution_count": 34,
   "metadata": {},
   "outputs": [
    {
     "name": "stdout",
     "output_type": "stream",
     "text": [
      "take 10 capsules by mouth qid\n",
      "[['Method', 'Qty', 'Form', 'BY', 'PO', 'QID']]\n"
     ]
    }
   ],
   "source": [
    "predictions = predict(\"take 10 capsules by mouth qid\")"
   ]
  },
  {
   "cell_type": "code",
   "execution_count": 35,
   "metadata": {},
   "outputs": [
    {
     "name": "stdout",
     "output_type": "stream",
     "text": [
      "inject 10 units orally qid x 3 months\n",
      "[['Method', 'Qty', 'Form', 'PO', 'QID', 'FOR', 'Duration', 'DurationUnit']]\n"
     ]
    }
   ],
   "source": [
    "predictions = predict(\"inject 10 units orally qid x 3 months\")"
   ]
  },
  {
   "cell_type": "code",
   "execution_count": 36,
   "metadata": {},
   "outputs": [
    {
     "name": "stdout",
     "output_type": "stream",
     "text": [
      "please take 2 tablets per day for a month in the morning and evening each day\n",
      "[['Method', 'Method', 'Qty', 'Form', 'Frequency', 'PeriodUnit', 'FOR', 'Period', 'PeriodUnit', 'EVERY', 'Period', 'PeriodUnit', 'AND', 'EVERY', 'Period', 'PeriodUnit']]\n"
     ]
    }
   ],
   "source": [
    "prediction = predict(\"please take 2 tablets per day for a month in the morning and evening each day\")"
   ]
  },
  {
   "cell_type": "code",
   "execution_count": 37,
   "metadata": {},
   "outputs": [
    {
     "name": "stdout",
     "output_type": "stream",
     "text": [
      "Amoxcicillin QID 30 tablets\n",
      "[['WHEN', 'QID', 'Qty', 'Form']]\n"
     ]
    }
   ],
   "source": [
    "prediction = predict(\"Amoxcicillin QID 30 tablets\")"
   ]
  },
  {
   "cell_type": "code",
   "execution_count": 38,
   "metadata": {},
   "outputs": [
    {
     "name": "stdout",
     "output_type": "stream",
     "text": [
      "take 3 tabs TID for 90 days with food\n",
      "[['Method', 'Qty', 'Form', 'TID', 'FOR', 'Duration', 'DurationUnit', 'WITH', 'FOOD']]\n"
     ]
    }
   ],
   "source": [
    "prediction = predict(\"take 3 tabs TID for 90 days with food\")"
   ]
  },
  {
   "cell_type": "code",
   "execution_count": 39,
   "metadata": {},
   "outputs": [
    {
     "name": "stdout",
     "output_type": "stream",
     "text": [
      "with food take 3 tablets per day for 90 days\n",
      "[['WITH', 'FOOD', 'Method', 'Qty', 'Form', 'Frequency', 'PeriodUnit', 'FOR', 'Duration', 'DurationUnit']]\n"
     ]
    }
   ],
   "source": [
    "prediction = predict(\"with food take 3 tablets per day for 90 days\")"
   ]
  },
  {
   "cell_type": "code",
   "execution_count": 40,
   "metadata": {},
   "outputs": [
    {
     "name": "stdout",
     "output_type": "stream",
     "text": [
      "with food take 3 tablets per week for 90 weeks\n",
      "[['WITH', 'FOOD', 'Method', 'Qty', 'Form', 'Frequency', 'PeriodUnit', 'FOR', 'Duration', 'DurationUnit']]\n"
     ]
    }
   ],
   "source": [
    "prediction = predict(\"with food take 3 tablets per week for 90 weeks\")"
   ]
  },
  {
   "cell_type": "code",
   "execution_count": 41,
   "metadata": {},
   "outputs": [
    {
     "name": "stdout",
     "output_type": "stream",
     "text": [
      "take 2-4 tabs\n",
      "[['Method', 'Qty', 'Form']]\n"
     ]
    }
   ],
   "source": [
    "prediction = predict(\"take 2-4 tabs\")"
   ]
  },
  {
   "cell_type": "code",
   "execution_count": 42,
   "metadata": {},
   "outputs": [
    {
     "name": "stdout",
     "output_type": "stream",
     "text": [
      "take 2 to 4 tabs\n",
      "[['Method', 'Qty', 'TO', 'Qty', 'Form']]\n"
     ]
    }
   ],
   "source": [
    "prediction = predict(\"take 2 to 4 tabs\")"
   ]
  },
  {
   "cell_type": "code",
   "execution_count": 43,
   "metadata": {},
   "outputs": [
    {
     "name": "stdout",
     "output_type": "stream",
     "text": [
      "take two to four tabs\n",
      "[['Method', 'Qty', 'TO', 'Qty', 'Form']]\n"
     ]
    }
   ],
   "source": [
    "prediction = predict(\"take two to four tabs\")"
   ]
  },
  {
   "cell_type": "code",
   "execution_count": 44,
   "metadata": {},
   "outputs": [
    {
     "name": "stdout",
     "output_type": "stream",
     "text": [
      "take 2-4 tabs for 8 to 9 days\n",
      "[['Method', 'Qty', 'Form', 'FOR', 'Duration', 'TO', 'PeriodMax', 'PeriodUnit']]\n"
     ]
    }
   ],
   "source": [
    "prediction = predict(\"take 2-4 tabs for 8 to 9 days\")"
   ]
  },
  {
   "cell_type": "code",
   "execution_count": 45,
   "metadata": {},
   "outputs": [
    {
     "name": "stdout",
     "output_type": "stream",
     "text": [
      "take 20 tabs every 6 to 8 days\n",
      "[['Method', 'Qty', 'Form', 'EVERY', 'Period', 'TO', 'PeriodMax', 'PeriodUnit']]\n"
     ]
    }
   ],
   "source": [
    "prediction = predict(\"take 20 tabs every 6 to 8 days\")"
   ]
  },
  {
   "cell_type": "code",
   "execution_count": 46,
   "metadata": {},
   "outputs": [
    {
     "name": "stdout",
     "output_type": "stream",
     "text": [
      "take 2 tabs every 4 to 6 days\n",
      "[['Method', 'Qty', 'Form', 'EVERY', 'Period', 'TO', 'PeriodMax', 'PeriodUnit']]\n"
     ]
    }
   ],
   "source": [
    "prediction = predict(\"take 2 tabs every 4 to 6 days\")"
   ]
  },
  {
   "cell_type": "code",
   "execution_count": 47,
   "metadata": {},
   "outputs": [
    {
     "name": "stdout",
     "output_type": "stream",
     "text": [
      "take 2 tabs every 2 to 10 weeks\n",
      "[['Method', 'Qty', 'Form', 'EVERY', 'Period', 'TO', 'PeriodMax', 'PeriodUnit']]\n"
     ]
    }
   ],
   "source": [
    "prediction = predict(\"take 2 tabs every 2 to 10 weeks\")"
   ]
  },
  {
   "cell_type": "code",
   "execution_count": 48,
   "metadata": {},
   "outputs": [
    {
     "name": "stdout",
     "output_type": "stream",
     "text": [
      "take 2 tabs every 4 to 6 days\n",
      "[['Method', 'Qty', 'Form', 'EVERY', 'Period', 'TO', 'PeriodMax', 'PeriodUnit']]\n"
     ]
    }
   ],
   "source": [
    "prediction = predict(\"take 2 tabs every 4 to 6 days\")"
   ]
  },
  {
   "cell_type": "code",
   "execution_count": 49,
   "metadata": {},
   "outputs": [
    {
     "name": "stdout",
     "output_type": "stream",
     "text": [
      "take 2 tabs every 2 to 10 months\n",
      "[['Method', 'Qty', 'Form', 'EVERY', 'Period', 'TO', 'PeriodMax', 'PeriodUnit']]\n"
     ]
    }
   ],
   "source": [
    "prediction = predict(\"take 2 tabs every 2 to 10 months\")"
   ]
  },
  {
   "cell_type": "code",
   "execution_count": 50,
   "metadata": {},
   "outputs": [
    {
     "name": "stdout",
     "output_type": "stream",
     "text": [
      "every 60 mins\n",
      "[['EVERY', 'Period', 'PeriodUnit']]\n"
     ]
    }
   ],
   "source": [
    "prediction = predict(\"every 60 mins\")"
   ]
  },
  {
   "cell_type": "code",
   "execution_count": 51,
   "metadata": {},
   "outputs": [
    {
     "name": "stdout",
     "output_type": "stream",
     "text": [
      "every 10 mins\n",
      "[['EVERY', 'Period', 'PeriodUnit']]\n"
     ]
    }
   ],
   "source": [
    "prediction = predict(\"every 10 mins\")"
   ]
  },
  {
   "cell_type": "code",
   "execution_count": 52,
   "metadata": {},
   "outputs": [
    {
     "name": "stdout",
     "output_type": "stream",
     "text": [
      "every two to four months\n",
      "[['EVERY', 'Period', 'TO', 'PeriodMax', 'PeriodUnit']]\n"
     ]
    }
   ],
   "source": [
    "prediction = predict(\"every two to four months\")"
   ]
  },
  {
   "cell_type": "code",
   "execution_count": 53,
   "metadata": {},
   "outputs": [
    {
     "name": "stdout",
     "output_type": "stream",
     "text": [
      "take 2 tabs every 3 to 4 days\n",
      "[['Method', 'Qty', 'Form', 'EVERY', 'Period', 'TO', 'PeriodMax', 'PeriodUnit']]\n"
     ]
    }
   ],
   "source": [
    "prediction = predict(\"take 2 tabs every 3 to 4 days\")"
   ]
  },
  {
   "cell_type": "code",
   "execution_count": 54,
   "metadata": {},
   "outputs": [
    {
     "name": "stdout",
     "output_type": "stream",
     "text": [
      "every 3 to 4 days take 20 tabs\n",
      "[['EVERY', 'Period', 'TO', 'DurationMax', 'DurationUnit', 'Method', 'Qty', 'Form']]\n"
     ]
    }
   ],
   "source": [
    "prediction = predict(\"every 3 to 4 days take 20 tabs\")"
   ]
  },
  {
   "cell_type": "code",
   "execution_count": 55,
   "metadata": {},
   "outputs": [
    {
     "name": "stdout",
     "output_type": "stream",
     "text": [
      "once in every 3 days take 3 tabs\n",
      "[['FOR', 'Duration', 'EVERY', 'Period', 'PeriodUnit', 'Method', 'Qty', 'Form']]\n"
     ]
    }
   ],
   "source": [
    "prediction = predict(\"once in every 3 days take 3 tabs\")"
   ]
  },
  {
   "cell_type": "code",
   "execution_count": 56,
   "metadata": {},
   "outputs": [
    {
     "name": "stdout",
     "output_type": "stream",
     "text": [
      "take 3 tabs once in every 3 days\n",
      "[['Method', 'Qty', 'Form', 'Frequency', 'PeriodUnit', 'EVERY', 'Period', 'PeriodUnit']]\n"
     ]
    }
   ],
   "source": [
    "prediction = predict(\"take 3 tabs once in every 3 days\")"
   ]
  },
  {
   "cell_type": "code",
   "execution_count": 57,
   "metadata": {},
   "outputs": [
    {
     "name": "stdout",
     "output_type": "stream",
     "text": [
      "orally take 20 tabs every 4-6 weeks\n",
      "[['PO', 'Method', 'Qty', 'Form', 'EVERY', 'Period', 'PeriodUnit']]\n"
     ]
    }
   ],
   "source": [
    "prediction = predict(\"orally take 20 tabs every 4-6 weeks\")"
   ]
  },
  {
   "cell_type": "code",
   "execution_count": 58,
   "metadata": {},
   "outputs": [
    {
     "name": "stdout",
     "output_type": "stream",
     "text": [
      "10 tabs x 2 days\n",
      "[['Qty', 'Form', 'FOR', 'Duration', 'DurationUnit']]\n"
     ]
    }
   ],
   "source": [
    "prediction = predict(\"10 tabs x 2 days\")"
   ]
  },
  {
   "cell_type": "code",
   "execution_count": 59,
   "metadata": {},
   "outputs": [
    {
     "name": "stdout",
     "output_type": "stream",
     "text": [
      "3 capsule x 15 days\n",
      "[['Qty', 'Form', 'FOR', 'Duration', 'DurationUnit']]\n"
     ]
    }
   ],
   "source": [
    "prediction = predict(\"3 capsule x 15 days\")"
   ]
  },
  {
   "cell_type": "code",
   "execution_count": 60,
   "metadata": {},
   "outputs": [
    {
     "name": "stdout",
     "output_type": "stream",
     "text": [
      "10 tabs\n",
      "[['Qty', 'Form']]\n"
     ]
    }
   ],
   "source": [
    "prediction = predict(\"10 tabs\")"
   ]
  }
 ],
 "metadata": {
  "kernelspec": {
   "display_name": "Python 3 (ipykernel)",
   "language": "python",
   "name": "python3"
  },
  "language_info": {
   "codemirror_mode": {
    "name": "ipython",
    "version": 3
   },
   "file_extension": ".py",
   "mimetype": "text/x-python",
   "name": "python",
   "nbconvert_exporter": "python",
   "pygments_lexer": "ipython3",
   "version": "3.8.11"
  }
 },
 "nbformat": 4,
 "nbformat_minor": 2
}
