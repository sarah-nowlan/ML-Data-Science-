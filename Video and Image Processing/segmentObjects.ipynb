{
 "cells": [
  {
   "cell_type": "markdown",
   "id": "183e30cd",
   "metadata": {},
   "source": [
    "# Segment Objects from background"
   ]
  },
  {
   "cell_type": "markdown",
   "id": "7234c38b",
   "metadata": {},
   "source": [
    "## importing libray"
   ]
  },
  {
   "cell_type": "code",
   "execution_count": 1,
   "id": "d9bfc267",
   "metadata": {},
   "outputs": [],
   "source": [
    "import cv2\n",
    "import numpy as np\n",
    "import mahotas"
   ]
  },
  {
   "cell_type": "markdown",
   "id": "189d4d48",
   "metadata": {},
   "source": [
    "## load in photos and preprocessing it for thresholding"
   ]
  },
  {
   "cell_type": "code",
   "execution_count": 2,
   "id": "72b945c5",
   "metadata": {},
   "outputs": [],
   "source": [
    "image = cv2.imread(\"feather2.jpg\")"
   ]
  },
  {
   "cell_type": "code",
   "execution_count": 3,
   "id": "90e6c3a2",
   "metadata": {},
   "outputs": [],
   "source": [
    "def resize(image, width = None, height = None, inter = cv2.INTER_AREA):\n",
    "    dim = None\n",
    "    (h,w) = image.shape[:2]\n",
    "    if width is None and height is None: \n",
    "        return image\n",
    "    if width is None:\n",
    "        r = height /float(h)\n",
    "        dim = (int(w*r),height)  \n",
    "    elif height is None:\n",
    "        r = width / float(w)\n",
    "        dim = (width, int(h*r))   \n",
    "    else:\n",
    "        print(\"the aspect ratio will be off and the photo is going to look weird\")\n",
    "        dim = (width,height)   \n",
    "    resize = cv2.resize(image,dim,interpolation = inter)\n",
    "    return resize"
   ]
  },
  {
   "cell_type": "code",
   "execution_count": 4,
   "id": "c3ff1df5",
   "metadata": {},
   "outputs": [],
   "source": [
    "image = resize(image, width=600)"
   ]
  },
  {
   "cell_type": "code",
   "execution_count": 5,
   "id": "1ac5ef2c",
   "metadata": {},
   "outputs": [],
   "source": [
    "cv2.imshow(\" threshold\", image)\n",
    "cv2.waitKey(0)\n",
    "cv2.destroyAllWindows()"
   ]
  },
  {
   "cell_type": "code",
   "execution_count": 6,
   "id": "a09cd5ba",
   "metadata": {},
   "outputs": [],
   "source": [
    "gray = cv2.cvtColor(image, cv2.COLOR_BGR2GRAY)"
   ]
  },
  {
   "cell_type": "code",
   "execution_count": 7,
   "id": "79214e8c",
   "metadata": {},
   "outputs": [],
   "source": [
    "blurred = cv2.GaussianBlur(gray, (5,5),0)"
   ]
  },
  {
   "cell_type": "markdown",
   "id": "2d71c64b",
   "metadata": {},
   "source": [
    "# function to used threshold to get mask and items in forground"
   ]
  },
  {
   "cell_type": "code",
   "execution_count": 8,
   "id": "71094853",
   "metadata": {},
   "outputs": [],
   "source": [
    "def get_forground(image,thresh):\n",
    "    invert = cv2.bitwise_not(thresh)\n",
    "    forground = cv2.bitwise_and(image,image,mask=invert)\n",
    "    return forground"
   ]
  },
  {
   "cell_type": "markdown",
   "id": "b90ba27d",
   "metadata": {},
   "source": [
    "## simple thresholding"
   ]
  },
  {
   "cell_type": "code",
   "execution_count": 12,
   "id": "ca5cb792",
   "metadata": {},
   "outputs": [],
   "source": [
    "(T,thresh) = cv2.threshold(blurred,110,255,cv2.THRESH_BINARY)"
   ]
  },
  {
   "cell_type": "code",
   "execution_count": 13,
   "id": "2d7f3e3f",
   "metadata": {},
   "outputs": [],
   "source": [
    "simpleMask = get_forground(image,thresh)"
   ]
  },
  {
   "cell_type": "code",
   "execution_count": 18,
   "id": "75385ada",
   "metadata": {},
   "outputs": [],
   "source": [
    "cv2.imshow(\" threshold\", simpleMask)\n",
    "cv2.waitKey(0)\n",
    "cv2.destroyAllWindows()"
   ]
  },
  {
   "cell_type": "markdown",
   "id": "ef856324",
   "metadata": {},
   "source": [
    "## Adaptive Threshold"
   ]
  },
  {
   "cell_type": "code",
   "execution_count": 19,
   "id": "8a43df1f",
   "metadata": {},
   "outputs": [],
   "source": [
    "thresh = cv2.adaptiveThreshold(blurred,255,cv2.ADAPTIVE_THRESH_GAUSSIAN_C,cv2.THRESH_BINARY_INV,11,4)"
   ]
  },
  {
   "cell_type": "code",
   "execution_count": 21,
   "id": "e80667c3",
   "metadata": {},
   "outputs": [],
   "source": [
    "adaptMask = get_forground(image,cv2.bitwise_not(thresh))"
   ]
  },
  {
   "cell_type": "code",
   "execution_count": 23,
   "id": "97e980d3",
   "metadata": {},
   "outputs": [],
   "source": [
    "cv2.imshow(\" threshold\", adaptMask)\n",
    "cv2.waitKey(0)\n",
    "cv2.destroyAllWindows()"
   ]
  },
  {
   "cell_type": "markdown",
   "id": "7ff22663",
   "metadata": {},
   "source": [
    "## OTSU Threshold"
   ]
  },
  {
   "cell_type": "code",
   "execution_count": 39,
   "id": "cfb56726",
   "metadata": {},
   "outputs": [],
   "source": [
    "T = mahotas.thresholding.otsu(blurred)\n",
    "thresh = blurred.copy()\n",
    "thresh[thresh > T]=255\n",
    "thresh[thresh < T]=0"
   ]
  },
  {
   "cell_type": "code",
   "execution_count": 40,
   "id": "aa71defd",
   "metadata": {},
   "outputs": [],
   "source": [
    "OTSUmask = get_forground(image,thresh)"
   ]
  },
  {
   "cell_type": "code",
   "execution_count": 41,
   "id": "0e5b4740",
   "metadata": {},
   "outputs": [],
   "source": [
    "cv2.imshow(\" threshold\", OTSUmask)\n",
    "cv2.waitKey(0)\n",
    "cv2.destroyAllWindows()"
   ]
  },
  {
   "cell_type": "markdown",
   "id": "a5ee51cf",
   "metadata": {},
   "source": [
    "## RC threshold"
   ]
  },
  {
   "cell_type": "code",
   "execution_count": 45,
   "id": "ee2d81e5",
   "metadata": {},
   "outputs": [],
   "source": [
    "rcT = mahotas.thresholding.rc(blurred)\n",
    "rcthresh = blurred.copy()\n",
    "rcthresh[rcthresh > T]=255\n",
    "rcthresh[rcthresh < T]=0"
   ]
  },
  {
   "cell_type": "code",
   "execution_count": 50,
   "id": "5a05efca",
   "metadata": {},
   "outputs": [],
   "source": [
    "RCmask = get_forground(image,rcthresh)"
   ]
  },
  {
   "cell_type": "code",
   "execution_count": 51,
   "id": "a71cefc7",
   "metadata": {},
   "outputs": [],
   "source": [
    "cv2.imshow(\" threshold\", RCmask)\n",
    "cv2.waitKey(0)\n",
    "cv2.destroyAllWindows()"
   ]
  },
  {
   "cell_type": "markdown",
   "id": "2256cd94",
   "metadata": {},
   "source": [
    "## Show them together"
   ]
  },
  {
   "cell_type": "code",
   "execution_count": 52,
   "id": "ad62b847",
   "metadata": {},
   "outputs": [],
   "source": [
    "cv2.imshow(\" threshold\", np.hstack([simpleMask,adaptMask,OTSUmask,RCmask]))\n",
    "cv2.waitKey(0)\n",
    "cv2.destroyAllWindows()"
   ]
  },
  {
   "cell_type": "code",
   "execution_count": null,
   "id": "f7e0ace1",
   "metadata": {},
   "outputs": [],
   "source": []
  }
 ],
 "metadata": {
  "kernelspec": {
   "display_name": "Python 3 (ipykernel)",
   "language": "python",
   "name": "python3"
  },
  "language_info": {
   "codemirror_mode": {
    "name": "ipython",
    "version": 3
   },
   "file_extension": ".py",
   "mimetype": "text/x-python",
   "name": "python",
   "nbconvert_exporter": "python",
   "pygments_lexer": "ipython3",
   "version": "3.8.11"
  }
 },
 "nbformat": 4,
 "nbformat_minor": 5
}
