{
 "cells": [
  {
   "cell_type": "markdown",
   "metadata": {},
   "source": [
    "#  Cartoon Face Mask\n",
    "##  apply face recognition, image masks, image thresholding, video capturing and saving video feed into a video file concepts."
   ]
  },
  {
   "cell_type": "markdown",
   "metadata": {},
   "source": [
    "## TASK: Cartoonify faces in video feed from live webcam\n",
    "\n",
    "### Steps\n",
    "- 1. **Capture video** feed from webcam\n",
    "- 2. **Recognize faces** in the video\n",
    "- 3. **Replace/Mask the face** region with your favorite cartoon character\n",
    "- 4. **Save the video** feed into a video file\n",
    "- 5. Submit the following files\n",
    "    - Notebook (.ipynb)\n",
    "    - Video (.avi/.mp4)"
   ]
  },
  {
   "cell_type": "code",
   "execution_count": 30,
   "metadata": {},
   "outputs": [],
   "source": [
    "import cv2\n",
    "import numpy as np\n",
    "\n",
    "#import PIL"
   ]
  },
  {
   "cell_type": "code",
   "execution_count": 31,
   "metadata": {},
   "outputs": [],
   "source": [
    "image = cv2.imread(\"perry.png\")"
   ]
  },
  {
   "cell_type": "code",
   "execution_count": 32,
   "metadata": {},
   "outputs": [],
   "source": [
    "imageface = image[10:200,60:320]\n",
    "#imageface = cv2.cvtColor(imageface,cv2.COLOR_BGR2GRAY)"
   ]
  },
  {
   "cell_type": "code",
   "execution_count": 33,
   "metadata": {},
   "outputs": [
    {
     "data": {
      "text/plain": [
       "(190, 260, 3)"
      ]
     },
     "execution_count": 33,
     "metadata": {},
     "output_type": "execute_result"
    }
   ],
   "source": [
    "imageface.shape"
   ]
  },
  {
   "cell_type": "code",
   "execution_count": 34,
   "metadata": {},
   "outputs": [],
   "source": [
    "#cv2.imshow(\"perry\",imageface)\n",
    "#cv2.waitKey(0)\n",
    "#cv2.destroyAllWindows()"
   ]
  },
  {
   "cell_type": "code",
   "execution_count": 35,
   "metadata": {},
   "outputs": [],
   "source": [
    "def resize(image, width = None, height = None, inter = cv2.INTER_AREA):\n",
    "    dim = None\n",
    "    (h,w) = image.shape[:2]\n",
    "    if width is None and height is None: \n",
    "        return image\n",
    "    if width is None:\n",
    "        r = height /float(h)\n",
    "        dim = (int(w*r),height)\n",
    "    elif height is None:\n",
    "        r = width / float(w)\n",
    "        dim = (width, int(h*r))\n",
    "    else:\n",
    "        print(\"the acpect ratio will be off and the photo is going to look weird\")\n",
    "        dim = (width,height)\n",
    "    resize = cv2.resize(image,dim,interpolation = inter)\n",
    "    return resize"
   ]
  },
  {
   "cell_type": "code",
   "execution_count": null,
   "metadata": {},
   "outputs": [],
   "source": []
  },
  {
   "cell_type": "markdown",
   "metadata": {},
   "source": [
    "### Capture frames, add cartoon face and save video"
   ]
  },
  {
   "cell_type": "code",
   "execution_count": 37,
   "metadata": {},
   "outputs": [],
   "source": [
    "import cv2\n",
    "import os\n",
    "cascPathface = os.path.dirname(\n",
    "    cv2.__file__) + \"/data/haarcascade_frontalface_alt2.xml\"\n",
    "cascPatheyes = os.path.dirname(\n",
    "    cv2.__file__) + \"/data/haarcascade_eye_tree_eyeglasses.xml\"\n",
    "\n",
    "faceCascade = cv2.CascadeClassifier(cascPathface)\n",
    "\n",
    "video_capture = cv2.VideoCapture(0)\n",
    "#get hieght and weight of video feed\n",
    "width = video_capture.get(cv2.CAP_PROP_FRAME_WIDTH)\n",
    "height = video_capture.get(cv2.CAP_PROP_FRAME_HEIGHT)\n",
    "#define codec and create videowriter object\n",
    "fourcc = cv2.VideoWriter_fourcc(*\"XVID\")\n",
    "out = cv2.VideoWriter(\"Sarah_task6video.avi\",fourcc,24.0,(int(width),int(height)))\n",
    "\n",
    "while True:\n",
    "    # Capture frame-by-frame\n",
    "    ret, frame = video_capture.read()\n",
    "    gray = cv2.cvtColor(frame, cv2.COLOR_BGR2GRAY)\n",
    "    faces = faceCascade.detectMultiScale(gray,\n",
    "                                         scaleFactor=1.1,\n",
    "                                         minNeighbors=5,\n",
    "                                         minSize=(60, 60),\n",
    "                                         flags=cv2.CASCADE_SCALE_IMAGE)\n",
    "    #frame = cv2.cvtColor(frame,cv2.COLOR_BGR2GRAY)\n",
    "    for (x,y,w,h) in faces:\n",
    "        \n",
    "        imageresized = resize(imageface,height=h)\n",
    "        frame[y:y+w,x:x+imageresized.shape[1]] = imageresized\n",
    "\n",
    "        #save the frame to video\n",
    "        out.write(frame)\n",
    "        # Display the resulting frame\n",
    "        cv2.imshow('Face Video', frame)\n",
    "       # cv2.imshow(\"Face ROI\", faceROI)\n",
    "    if cv2.waitKey(1) & 0xFF == ord('q'):\n",
    "        break\n",
    "video_capture.release()\n",
    "out.release()\n",
    "cv2.destroyAllWindows()"
   ]
  },
  {
   "cell_type": "code",
   "execution_count": 38,
   "metadata": {},
   "outputs": [],
   "source": [
    "## Me Testing differnet ways to put a photo onto another photo\n",
    "\n",
    "#added_image = cv2.addWeighted(background[150:250,150:250,:],1,imageface,1,0)\n",
    "#x_offset=y_offset=50\n",
    "#background[50:50+imageface.shape[0], 50:50+imageface.shape[1]] \n",
    "#added_image = cv2.addWeighted(background[150:250,150:250,:],1,imageface,1,0)"
   ]
  },
  {
   "cell_type": "code",
   "execution_count": null,
   "metadata": {},
   "outputs": [],
   "source": []
  }
 ],
 "metadata": {
  "kernelspec": {
   "display_name": "Python 3 (ipykernel)",
   "language": "python",
   "name": "python3"
  },
  "language_info": {
   "codemirror_mode": {
    "name": "ipython",
    "version": 3
   },
   "file_extension": ".py",
   "mimetype": "text/x-python",
   "name": "python",
   "nbconvert_exporter": "python",
   "pygments_lexer": "ipython3",
   "version": "3.8.11"
  }
 },
 "nbformat": 4,
 "nbformat_minor": 4
}
